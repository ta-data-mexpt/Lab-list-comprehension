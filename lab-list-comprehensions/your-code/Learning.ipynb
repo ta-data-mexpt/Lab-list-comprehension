{
 "cells": [
  {
   "cell_type": "markdown",
   "metadata": {},
   "source": [
    "# List Comprehensions\n",
    "\n",
    "\n",
    "Lesson Goals\n",
    "\n",
    "    Learn about the concept of combining storage with iteration.\n",
    "    Learn how list comprehensions combine storage and iteration in an efficient way.\n",
    "    Learn how to incorporate conditional logic into list comprehensions.\n",
    "    Learn how to construct list comprehensions with multiple for loops.\n",
    "    Add conditional logic to multi-loop list comprehensions.\n",
    "    Learn some use cases for list comprehensions.\n",
    "\n",
    "Introduction\n",
    "\n",
    "As you continue improving your Python programming skills, you will encounter useful ways to combine some of the basic concepts you learned earlier in the program. In this lesson, we will learn about list comprehensions. List comprehensions combine the concepts of storage in data structures, iteration, and even conditional logic into an efficient form.\n",
    "Combining Storage and Iteration\n",
    "\n",
    "The main idea behind list comprehensions is iterative storage. In some of the previous lessons, we have encountered scenarios where we had to create an empty list and iterate through a for loop appending a value to the list at the end of each iteration."
   ]
  },
  {
   "cell_type": "code",
   "execution_count": 1,
   "metadata": {},
   "outputs": [
    {
     "name": "stdout",
     "output_type": "stream",
     "text": [
      "[0, 1, 2, 3, 4, 5, 6, 7, 8, 9]\n"
     ]
    }
   ],
   "source": [
    "lst = []\n",
    "\n",
    "for i in range(10):\n",
    "    lst.append(i)\n",
    "\n",
    "print(lst)"
   ]
  },
  {
   "cell_type": "markdown",
   "metadata": {},
   "source": [
    "In this example, we created an empty list and for every number in the range, we appended that number to the list as we encountered it.\n",
    "\n",
    "\n",
    "# List Comprehensions\n",
    "\n",
    "A list comprehensions is a way to streamline that logic into a single line of Python code. Instead of creating an empty list and filling it with the append method, the list comprehension's square brackets cause the results returned to be packed into a list. Below is what the previous example looks like as a list comprehension. "
   ]
  },
  {
   "cell_type": "code",
   "execution_count": 2,
   "metadata": {},
   "outputs": [
    {
     "name": "stdout",
     "output_type": "stream",
     "text": [
      "[0, 1, 2, 3, 4, 5, 6, 7, 8, 9]\n"
     ]
    }
   ],
   "source": [
    "lst = [i for i in range(10)]\n",
    "print(lst)"
   ]
  },
  {
   "cell_type": "markdown",
   "metadata": {},
   "source": [
    "As you can see, we get the same result from less code, which is generally a good thing. Inside the square brackets, we are requesting the value for every value in that range.\n",
    "\n",
    "\n",
    "\n",
    "# Adding Conditions to List Comprehensions\n",
    "\n",
    "We can also incorporate conditional statements into our list comprehensions. When adding conditions, they need to be placed after the appropriate for-loop to exclude results that do not satisfy our condition. The example below returns every value in a range but only if the value is greater than or equal to 5."
   ]
  },
  {
   "cell_type": "code",
   "execution_count": 3,
   "metadata": {},
   "outputs": [
    {
     "name": "stdout",
     "output_type": "stream",
     "text": [
      "[5, 6, 7, 8, 9, 10, 11, 12, 13, 14, 15, 16, 17, 18, 19]\n"
     ]
    }
   ],
   "source": [
    "lst = [i for i in range(20) if i >= 5]\n",
    "print(lst)"
   ]
  },
  {
   "cell_type": "markdown",
   "metadata": {},
   "source": [
    "# Multiple For-Loops in List Comprehensions\n",
    "\n",
    "Sometimes we encounter more complex situations where multiple loops are required. For example, suppose you had some nested lists whose values you wanted to unpack into a single list. Using regular lists and for loops, we would do that as follows."
   ]
  },
  {
   "cell_type": "code",
   "execution_count": 4,
   "metadata": {},
   "outputs": [
    {
     "name": "stdout",
     "output_type": "stream",
     "text": [
      "[1, 2, 3, 4, 5, 6, 7, 8, 9]\n"
     ]
    }
   ],
   "source": [
    "lst_lst = [[1,2,3], [4,5,6], [7,8,9]]\n",
    "\n",
    "lst = []\n",
    "\n",
    "for x in lst_lst:\n",
    "    for y in x:\n",
    "        lst.append(y)\n",
    "\n",
    "print(lst)"
   ]
  },
  {
   "cell_type": "markdown",
   "metadata": {},
   "source": [
    "List comprehensions provide us with a very efficient way of handling these cases as well. In order to construct a list comprehension with multiple for loops, we would request the final result that we want followed by the series of loops. This may seem a little confusing because we are asking up front for the result that comes at the end of the last loop, but after writing them for a while, you will find that it helps you think about the result you want and then how to get it."
   ]
  },
  {
   "cell_type": "code",
   "execution_count": 5,
   "metadata": {},
   "outputs": [
    {
     "name": "stdout",
     "output_type": "stream",
     "text": [
      "[1, 2, 3, 4, 5, 6, 7, 8, 9]\n"
     ]
    }
   ],
   "source": [
    "lst_lst = [[1,2,3], [4,5,6], [7,8,9]]\n",
    "\n",
    "lst = [y for x in lst_lst for y in x]\n",
    "print(lst)"
   ]
  },
  {
   "cell_type": "markdown",
   "metadata": {},
   "source": [
    "Note that the order of the for loops within the list comprehensions is exactly the same as the order you would have written it with regular for loops. You will be tempted to write it backwards ( [y for y in x for x in lst_lst]), but that will not return the result we want. So just remember that the for loop order is the same within a list comprehension as it would be outside the list comprehension.\n",
    "\n",
    "\n",
    "# Adding Conditions to List Comprehensions\n",
    "\n",
    "List comprehensions can handle quite a bit of complexity. We can even incorporate conditional logic into list comprehensions. For example, suppose we had a list of lists such as the one in the example below and we wanted to extract a list of even numbers that appear in nested lists shorter than 4 elements long. We could achieve this with a list comprehension containing two for loops and two conditional statements as follows."
   ]
  },
  {
   "cell_type": "code",
   "execution_count": 6,
   "metadata": {},
   "outputs": [
    {
     "name": "stdout",
     "output_type": "stream",
     "text": [
      "[6, 8, 10]\n"
     ]
    }
   ],
   "source": [
    "lst_lst = [[1,2,3,4,5], [6,7,8], [9,10]]\n",
    "\n",
    "lst = [y for x in lst_lst if len(x) < 4 for y in x if y % 2 == 0]\n",
    "print(lst)"
   ]
  },
  {
   "cell_type": "markdown",
   "metadata": {},
   "source": [
    "Note that the condition for each for loop comes directly after the for loop it applies to. This ability to handle complex logic with such efficiency makes list comprehensions a very powerful tool to have in your arsenal.\n",
    "\n",
    "\n",
    "\n",
    "# Practical Uses for List Comprehensions\n",
    "\n",
    "\n",
    "Reading Multiple Files\n",
    "\n",
    "One use case where list comprehensions come in handy is when data is split across multiple files. For example, suppose we had a data directory that contained several CSV files (among other files), each with the same information (columns) for separate groups or divisions. We could use a list comprehension with an endswith('.csv') condition in it to get a list of just the CSV files in that directory. We could use another list comprehension to have Pandas read each of those files and then the pd.concat method to combine them all into a single data set that we can analyze as follows. "
   ]
  },
  {
   "cell_type": "code",
   "execution_count": 9,
   "metadata": {},
   "outputs": [],
   "source": [
    "import os\n",
    "import pandas as pd\n",
    "\n",
    "file_list = [f for f in os.listdir('../data') if f.endswith('.csv')]\n",
    "data_sets = [pd.read_csv(os.path.join('../data', f)) for f in file_list]\n",
    "data = pd.concat(data_sets, axis=0)"
   ]
  },
  {
   "cell_type": "markdown",
   "metadata": {},
   "source": [
    "We did all this with three lines of Python code, which is pretty amazing!\n",
    "\n",
    "\n",
    "\n",
    "# Selecting Data Frame Columns Based on Conditions\n",
    "\n",
    "Another use case would be selecting data frame columns based on a condition that they have in common. The example below reads our vehicles data file, uses the _get_numeric_data method to retrieve all numeric columns, and then uses a list comprehension to return just the columns that have a mean greater than 15. "
   ]
  },
  {
   "cell_type": "code",
   "execution_count": 12,
   "metadata": {},
   "outputs": [
    {
     "name": "stdout",
     "output_type": "stream",
     "text": [
      "['mpg', 'disp', 'hp', 'qsec']\n"
     ]
    }
   ],
   "source": [
    "data = pd.read_csv('../mtcars.csv')\n",
    "\n",
    "selected_columns = [col for col in data._get_numeric_data() if data[col].mean() > 15]\n",
    "print(selected_columns)"
   ]
  },
  {
   "cell_type": "code",
   "execution_count": null,
   "metadata": {},
   "outputs": [],
   "source": []
  }
 ],
 "metadata": {
  "kernelspec": {
   "display_name": "Python 3",
   "language": "python",
   "name": "python3"
  },
  "language_info": {
   "codemirror_mode": {
    "name": "ipython",
    "version": 3
   },
   "file_extension": ".py",
   "mimetype": "text/x-python",
   "name": "python",
   "nbconvert_exporter": "python",
   "pygments_lexer": "ipython3",
   "version": "3.7.4"
  }
 },
 "nbformat": 4,
 "nbformat_minor": 2
}
