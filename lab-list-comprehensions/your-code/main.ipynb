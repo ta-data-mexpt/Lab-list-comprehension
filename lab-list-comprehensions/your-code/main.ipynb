{
 "cells": [
  {
   "cell_type": "markdown",
   "metadata": {},
   "source": [
    "# List Comprehensions Lab\n",
    "\n",
    "Complete the following set of exercises to solidify your knowledge of list comprehensions."
   ]
  },
  {
   "cell_type": "code",
   "execution_count": 3,
   "metadata": {},
   "outputs": [],
   "source": [
    "import os\n",
    "import numpy as np\n",
    "import pandas as pd"
   ]
  },
  {
   "cell_type": "markdown",
   "metadata": {},
   "source": [
    "### 1. Use a list comprehension to create and print a list of consecutive integers starting with 1 and ending with 50."
   ]
  },
  {
   "cell_type": "code",
   "execution_count": 4,
   "metadata": {},
   "outputs": [
    {
     "name": "stdout",
     "output_type": "stream",
     "text": [
      "[1, 2, 3, 4, 5, 6, 7, 8, 9, 10, 11, 12, 13, 14, 15, 16, 17, 18, 19, 20, 21, 22, 23, 24, 25, 26, 27, 28, 29, 30, 31, 32, 33, 34, 35, 36, 37, 38, 39, 40, 41, 42, 43, 44, 45, 46, 47, 48, 49, 50]\n"
     ]
    }
   ],
   "source": [
    "list_integers = [i+1 for i in range(0,50)]\n",
    "print(list_integers)"
   ]
  },
  {
   "cell_type": "markdown",
   "metadata": {},
   "source": [
    "### 2. Use a list comprehension to create and print a list of even numbers starting with 2 and ending with 200."
   ]
  },
  {
   "cell_type": "code",
   "execution_count": 5,
   "metadata": {},
   "outputs": [
    {
     "name": "stdout",
     "output_type": "stream",
     "text": [
      "[2, 4, 6, 8, 10, 12, 14, 16, 18, 20, 22, 24, 26, 28, 30, 32, 34, 36, 38, 40, 42, 44, 46, 48, 50, 52, 54, 56, 58, 60, 62, 64, 66, 68, 70, 72, 74, 76, 78, 80, 82, 84, 86, 88, 90, 92, 94, 96, 98, 100, 102, 104, 106, 108, 110, 112, 114, 116, 118, 120, 122, 124, 126, 128, 130, 132, 134, 136, 138, 140, 142, 144, 146, 148, 150, 152, 154, 156, 158, 160, 162, 164, 166, 168, 170, 172, 174, 176, 178, 180, 182, 184, 186, 188, 190, 192, 194, 196, 198, 200]\n"
     ]
    }
   ],
   "source": [
    "list_greater_2 = [i for i in range (2,201) if i % 2 == 0]\n",
    "print(list_greater_2)"
   ]
  },
  {
   "cell_type": "markdown",
   "metadata": {},
   "source": [
    "### 3. Use a list comprehension to create and print a list containing all elements of the 10 x 4 Numpy array below."
   ]
  },
  {
   "cell_type": "code",
   "execution_count": 6,
   "metadata": {},
   "outputs": [],
   "source": [
    "a = np.array([[0.84062117, 0.48006452, 0.7876326 , 0.77109654],\n",
    "       [0.44409793, 0.09014516, 0.81835917, 0.87645456],\n",
    "       [0.7066597 , 0.09610873, 0.41247947, 0.57433389],\n",
    "       [0.29960807, 0.42315023, 0.34452557, 0.4751035 ],\n",
    "       [0.17003563, 0.46843998, 0.92796258, 0.69814654],\n",
    "       [0.41290051, 0.19561071, 0.16284783, 0.97016248],\n",
    "       [0.71725408, 0.87702738, 0.31244595, 0.76615487],\n",
    "       [0.20754036, 0.57871812, 0.07214068, 0.40356048],\n",
    "       [0.12149553, 0.53222417, 0.9976855 , 0.12536346],\n",
    "       [0.80930099, 0.50962849, 0.94555126, 0.33364763]])"
   ]
  },
  {
   "cell_type": "code",
   "execution_count": 7,
   "metadata": {},
   "outputs": [
    {
     "name": "stdout",
     "output_type": "stream",
     "text": [
      "[0.84062117, 0.48006452, 0.7876326, 0.77109654, 0.44409793, 0.09014516, 0.81835917, 0.87645456, 0.7066597, 0.09610873, 0.41247947, 0.57433389, 0.29960807, 0.42315023, 0.34452557, 0.4751035, 0.17003563, 0.46843998, 0.92796258, 0.69814654, 0.41290051, 0.19561071, 0.16284783, 0.97016248, 0.71725408, 0.87702738, 0.31244595, 0.76615487, 0.20754036, 0.57871812, 0.07214068, 0.40356048, 0.12149553, 0.53222417, 0.9976855, 0.12536346, 0.80930099, 0.50962849, 0.94555126, 0.33364763]\n"
     ]
    }
   ],
   "source": [
    "large_list = [integ for indi in a for integ in indi]\n",
    "print(large_list)"
   ]
  },
  {
   "cell_type": "markdown",
   "metadata": {},
   "source": [
    "### 4. Add a condition to the list comprehension above so that only values greater than or equal to 0.5 are printed."
   ]
  },
  {
   "cell_type": "code",
   "execution_count": 8,
   "metadata": {},
   "outputs": [
    {
     "name": "stdout",
     "output_type": "stream",
     "text": [
      "[0.84062117, 0.7876326, 0.77109654, 0.81835917, 0.87645456, 0.7066597, 0.57433389, 0.92796258, 0.69814654, 0.97016248, 0.71725408, 0.87702738, 0.76615487, 0.57871812, 0.53222417, 0.9976855, 0.80930099, 0.50962849, 0.94555126]\n"
     ]
    }
   ],
   "source": [
    "large_list = [integ for indi in a for integ in indi if integ >= 0.5 ]\n",
    "print(large_list)"
   ]
  },
  {
   "cell_type": "markdown",
   "metadata": {},
   "source": [
    "### 5. Use a list comprehension to create and print a list containing all elements of the 5 x 2 x 3 Numpy array below."
   ]
  },
  {
   "cell_type": "code",
   "execution_count": 9,
   "metadata": {},
   "outputs": [],
   "source": [
    "b = np.array([[[0.55867166, 0.06210792, 0.08147297],\n",
    "        [0.82579068, 0.91512478, 0.06833034]],\n",
    "\n",
    "       [[0.05440634, 0.65857693, 0.30296619],\n",
    "        [0.06769833, 0.96031863, 0.51293743]],\n",
    "\n",
    "       [[0.09143215, 0.71893382, 0.45850679],\n",
    "        [0.58256464, 0.59005654, 0.56266457]],\n",
    "\n",
    "       [[0.71600294, 0.87392666, 0.11434044],\n",
    "        [0.8694668 , 0.65669313, 0.10708681]],\n",
    "\n",
    "       [[0.07529684, 0.46470767, 0.47984544],\n",
    "        [0.65368638, 0.14901286, 0.23760688]]])"
   ]
  },
  {
   "cell_type": "code",
   "execution_count": 10,
   "metadata": {},
   "outputs": [
    {
     "name": "stdout",
     "output_type": "stream",
     "text": [
      "[0.55867166, 0.06210792, 0.08147297, 0.82579068, 0.91512478, 0.06833034, 0.05440634, 0.65857693, 0.30296619, 0.06769833, 0.96031863, 0.51293743, 0.09143215, 0.71893382, 0.45850679, 0.58256464, 0.59005654, 0.56266457, 0.71600294, 0.87392666, 0.11434044, 0.8694668, 0.65669313, 0.10708681, 0.07529684, 0.46470767, 0.47984544, 0.65368638, 0.14901286, 0.23760688]\n"
     ]
    }
   ],
   "source": [
    "large_list = [result for val in b for numbe in val for result in numbe]\n",
    "print(large_list)"
   ]
  },
  {
   "cell_type": "markdown",
   "metadata": {},
   "source": [
    "### 5. Add a condition to the list comprehension above so that the last value in each subarray is printed, but only if it is less than or equal to 0.5."
   ]
  },
  {
   "cell_type": "code",
   "execution_count": 11,
   "metadata": {},
   "outputs": [
    {
     "data": {
      "text/plain": [
       "[0.08147297,\n",
       " 0.06833034,\n",
       " 0.30296619,\n",
       " 0.45850679,\n",
       " 0.11434044,\n",
       " 0.10708681,\n",
       " 0.47984544,\n",
       " 0.23760688]"
      ]
     },
     "execution_count": 11,
     "metadata": {},
     "output_type": "execute_result"
    }
   ],
   "source": [
    "numbe = []\n",
    "large_list_less = [numbe[len(numbe) -1 ] for val in b  for numbe in val if numbe[len(numbe) -1 ] < 0.5 ]\n",
    "large_list_less"
   ]
  },
  {
   "cell_type": "markdown",
   "metadata": {},
   "source": [
    "### 6. Use a list comprehension to select and print the names of all CSV files in the */data* directory."
   ]
  },
  {
   "cell_type": "code",
   "execution_count": 12,
   "metadata": {},
   "outputs": [
    {
     "name": "stdout",
     "output_type": "stream",
     "text": [
      "C:\\Users\\David\\Documents\\Data analyst course\\Lab-list-comprehension\\lab-list-comprehensions\\data\n"
     ]
    }
   ],
   "source": [
    "list_names_csv_files = []\n",
    "path =  os.path.join( os.path.dirname( os.getcwd() ), \"data\" ) # creating path with data folder\n",
    "list_of_files = os.listdir(path) # getting all files from data\n",
    "list_of_files = [names for names in list_of_files if names[-4:] == \".csv\" ] # getting list of files\n",
    "print(path)"
   ]
  },
  {
   "cell_type": "markdown",
   "metadata": {},
   "source": [
    "### 7. Use a list comprehension and the Pandas `read_csv` and `concat` methods to read all CSV files in the */data* directory and combine them into a single data frame. Display the top 10 rows of the resulting data frame."
   ]
  },
  {
   "cell_type": "code",
   "execution_count": 13,
   "metadata": {},
   "outputs": [],
   "source": [
    "concat_files = pd.concat( pd.read_csv(path + \"\\\\\" + files) for files in list_of_files )\n",
    "#print(concat_files)"
   ]
  },
  {
   "cell_type": "markdown",
   "metadata": {},
   "source": [
    "### 8. Use a list comprehension to select and print the column numbers for columns from the data set whose median is less than 0.48."
   ]
  },
  {
   "cell_type": "code",
   "execution_count": 30,
   "metadata": {},
   "outputs": [
    {
     "name": "stdout",
     "output_type": "stream",
     "text": [
      "['2', '9', '12', '14', '17', '20']\n"
     ]
    }
   ],
   "source": [
    "df = pd.DataFrame(concat_files)\n",
    "#lis = df.axes\n",
    "#df.columns[i+1]\n",
    "list_columns_med = [ df.columns[i]  for i in range(len(df.median()) ) if df.median()[i] < 0.48 ]\n",
    "#lis = {df.median()}\n",
    "#print(len(df.median()))\n",
    "print(list_columns_med)\n"
   ]
  },
  {
   "cell_type": "markdown",
   "metadata": {},
   "source": [
    "### 9. Use a list comprehension to add a new column (20) to the data frame whose values are the values in column 19 minus 0.1. Display the top 10 rows of the resulting data frame."
   ]
  },
  {
   "cell_type": "code",
   "execution_count": 31,
   "metadata": {},
   "outputs": [
    {
     "name": "stdout",
     "output_type": "stream",
     "text": [
      "          0         1         2         3         4         5         6  \\\n",
      "0  0.734751  0.195362  0.734309  0.598184  0.763433  0.263434  0.868066   \n",
      "1  0.772607  0.445391  0.249642  0.787922  0.598583  0.827238  0.624126   \n",
      "2  0.226428  0.268764  0.694262  0.622335  0.063843  0.122683  0.815625   \n",
      "3  0.362748  0.495430  0.113876  0.594149  0.612522  0.625204  0.864050   \n",
      "4  0.033415  0.340433  0.464971  0.363737  0.025815  0.434129  0.415163   \n",
      "0  0.276827  0.260054  0.942397  0.113187  0.781355  0.475740  0.152061   \n",
      "1  0.995885  0.158381  0.244274  0.962163  0.651900  0.930665  0.577190   \n",
      "2  0.641917  0.821055  0.392437  0.782617  0.510762  0.428320  0.017324   \n",
      "3  0.806532  0.569258  0.148175  0.809987  0.459632  0.735762  0.730664   \n",
      "4  0.311185  0.501165  0.365979  0.782807  0.776795  0.797199  0.791946   \n",
      "\n",
      "          7         8         9  ...        11        12        13        14  \\\n",
      "0  0.058092  0.753502  0.587513  ...  0.178356  0.182922  0.147631  0.391188   \n",
      "1  0.601524  0.688753  0.338870  ...  0.471474  0.267443  0.453351  0.800716   \n",
      "2  0.584542  0.032594  0.589775  ...  0.650973  0.565705  0.691784  0.265223   \n",
      "3  0.260279  0.528873  0.168043  ...  0.677014  0.175735  0.632370  0.926715   \n",
      "4  0.892210  0.381701  0.415264  ...  0.696930  0.819751  0.944029  0.869965   \n",
      "0  0.250324  0.147078  0.162984  ...  0.509619  0.593212  0.911839  0.257645   \n",
      "1  0.087914  0.960261  0.580840  ...  0.661459  0.674085  0.049326  0.785803   \n",
      "2  0.680720  0.340412  0.462513  ...  0.251949  0.032847  0.995700  0.816563   \n",
      "3  0.934502  0.080322  0.763502  ...  0.027637  0.409665  0.942846  0.133256   \n",
      "4  0.847157  0.771811  0.233944  ...  0.053030  0.208551  0.824354  0.588567   \n",
      "\n",
      "         15        16        17        18        19        20  \n",
      "0  0.816049  0.749068  0.293260  0.937828  0.880858  0.780858  \n",
      "1  0.045749  0.683793  0.389789  0.016787  0.503695  0.403695  \n",
      "2  0.739031  0.560394  0.334802  0.517694  0.646110  0.546110  \n",
      "3  0.085675  0.120525  0.141746  0.771144  0.489660  0.389660  \n",
      "4  0.041723  0.819140  0.676051  0.109349  0.872947  0.772947  \n",
      "0  0.386457  0.696932  0.069162  0.952291  0.286542  0.186542  \n",
      "1  0.315645  0.495355  0.232135  0.549324  0.572232  0.472232  \n",
      "2  0.735692  0.435998  0.430411  0.531757  0.489528  0.389528  \n",
      "3  0.157158  0.929446  0.402791  0.685976  0.246594  0.146594  \n",
      "4  0.604341  0.232964  0.229109  0.022881  0.479022  0.379022  \n",
      "\n",
      "[10 rows x 21 columns]\n"
     ]
    }
   ],
   "source": [
    "df[\"20\"] = [ value - 0.1 for value in df[\"19\"]]\n",
    "print(df.head(10))\n",
    "#df.add(other, axis='columns', level=None, fill_value=None)"
   ]
  },
  {
   "cell_type": "markdown",
   "metadata": {},
   "source": [
    "### 10. Use a list comprehension to extract and print all values from the data set that are between 0.7 and 0.75."
   ]
  },
  {
   "cell_type": "code",
   "execution_count": 55,
   "metadata": {},
   "outputs": [
    {
     "name": "stdout",
     "output_type": "stream",
     "text": [
      "[0.7347510852128797, 0.7025657075988269, 0.7132714209987683, 0.7280006345208285, 0.7258310816144985, 0.736029494090402, 0.7472962776291713, 0.7343092314001137, 0.7088042362916818, 0.7358941798147411, 0.7365416322783028, 0.7329024831531535, 0.7023481768180954, 0.7133695725698419, 0.7476323136755818, 0.7008930873050235, 0.7357618655811269, 0.7013619954419494, 0.726854508853197, 0.7032248108904495, 0.7150799992177622, 0.7173964318670598, 0.7306642125209889, 0.7383982036983279, 0.7124169515124726, 0.71223975981198, 0.7298115760258881, 0.7051334608870933, 0.7321333453970806, 0.7178166705957928, 0.737444918174949, 0.7159290265157912, 0.7294980584878026, 0.7215147068185102, 0.7045750112959754, 0.7111584953876777, 0.7209375615129192, 0.7396561066717461, 0.7303553716733908, 0.7133690799930356, 0.7390312927111312, 0.7356923324968598, 0.7078738356977186, 0.7321533684342264, 0.7490680818183477, 0.7130781095091867, 0.7085098152301276, 0.7264121114538001, 0.7196096371031628, 0.7393833032570581, 0.7244863338885654, 0.7033930409580709, 0.7274869207330491, 0.7376946446827494]\n"
     ]
    }
   ],
   "source": [
    "#panda_values = [column1 for column1 in df if df[column1] > 0.7]\n",
    "#df\n",
    "panda_values =  df [df[\"19\"] > 0.7] # to check if column 19 is greater than a value\n",
    "panda_values =  list(df[\"19\"]) # we can convert each column in a list\n",
    "panda_values = [ value for column in df for value in list(df[column]) if float(value) > 0.7 and float(value) < 0.75 ]\n",
    "print(panda_values)"
   ]
  },
  {
   "cell_type": "code",
   "execution_count": null,
   "metadata": {},
   "outputs": [],
   "source": []
  }
 ],
 "metadata": {
  "kernelspec": {
   "display_name": "Python 3",
   "language": "python",
   "name": "python3"
  },
  "language_info": {
   "codemirror_mode": {
    "name": "ipython",
    "version": 3
   },
   "file_extension": ".py",
   "mimetype": "text/x-python",
   "name": "python",
   "nbconvert_exporter": "python",
   "pygments_lexer": "ipython3",
   "version": "3.8.8"
  }
 },
 "nbformat": 4,
 "nbformat_minor": 4
}
