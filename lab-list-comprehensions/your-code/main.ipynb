{
 "cells": [
  {
   "cell_type": "markdown",
   "metadata": {},
   "source": [
    "# List Comprehensions Lab\n",
    "\n",
    "Complete the following set of exercises to solidify your knowledge of list comprehensions."
   ]
  },
  {
   "cell_type": "code",
   "execution_count": 1,
   "metadata": {},
   "outputs": [],
   "source": [
    "import os\n",
    "import numpy as np\n",
    "import pandas as pd"
   ]
  },
  {
   "cell_type": "markdown",
   "metadata": {},
   "source": [
    "### 1. Use a list comprehension to create and print a list of consecutive integers starting with 1 and ending with 50."
   ]
  },
  {
   "cell_type": "code",
   "execution_count": 2,
   "metadata": {},
   "outputs": [
    {
     "name": "stdout",
     "output_type": "stream",
     "text": [
      "[1, 2, 3, 4, 5, 6, 7, 8, 9, 10, 11, 12, 13, 14, 15, 16, 17, 18, 19, 20, 21, 22, 23, 24, 25, 26, 27, 28, 29, 30, 31, 32, 33, 34, 35, 36, 37, 38, 39, 40, 41, 42, 43, 44, 45, 46, 47, 48, 49, 50]\n"
     ]
    }
   ],
   "source": [
    "consecutive = [x for x in range(1,51)]\n",
    "print(consecutive)"
   ]
  },
  {
   "cell_type": "markdown",
   "metadata": {},
   "source": [
    "### 2. Use a list comprehension to create and print a list of even numbers starting with 2 and ending with 200."
   ]
  },
  {
   "cell_type": "code",
   "execution_count": 3,
   "metadata": {},
   "outputs": [
    {
     "name": "stdout",
     "output_type": "stream",
     "text": [
      "[2, 4, 6, 8, 10, 12, 14, 16, 18, 20, 22, 24, 26, 28, 30, 32, 34, 36, 38, 40, 42, 44, 46, 48, 50, 52, 54, 56, 58, 60, 62, 64, 66, 68, 70, 72, 74, 76, 78, 80, 82, 84, 86, 88, 90, 92, 94, 96, 98, 100, 102, 104, 106, 108, 110, 112, 114, 116, 118, 120, 122, 124, 126, 128, 130, 132, 134, 136, 138, 140, 142, 144, 146, 148, 150, 152, 154, 156, 158, 160, 162, 164, 166, 168, 170, 172, 174, 176, 178, 180, 182, 184, 186, 188, 190, 192, 194, 196, 198, 200]\n"
     ]
    }
   ],
   "source": [
    "even = [e for e in range(2,202,2)]\n",
    "print(even)"
   ]
  },
  {
   "cell_type": "markdown",
   "metadata": {},
   "source": [
    "### 3. Use a list comprehension to create and print a list containing all elements of the 10 x 4 Numpy array below."
   ]
  },
  {
   "cell_type": "code",
   "execution_count": 4,
   "metadata": {},
   "outputs": [],
   "source": [
    "a = np.array([[0.84062117, 0.48006452, 0.7876326 , 0.77109654],\n",
    "       [0.44409793, 0.09014516, 0.81835917, 0.87645456],\n",
    "       [0.7066597 , 0.09610873, 0.41247947, 0.57433389],\n",
    "       [0.29960807, 0.42315023, 0.34452557, 0.4751035 ],\n",
    "       [0.17003563, 0.46843998, 0.92796258, 0.69814654],\n",
    "       [0.41290051, 0.19561071, 0.16284783, 0.97016248],\n",
    "       [0.71725408, 0.87702738, 0.31244595, 0.76615487],\n",
    "       [0.20754036, 0.57871812, 0.07214068, 0.40356048],\n",
    "       [0.12149553, 0.53222417, 0.9976855 , 0.12536346],\n",
    "       [0.80930099, 0.50962849, 0.94555126, 0.33364763]])"
   ]
  },
  {
   "cell_type": "code",
   "execution_count": 5,
   "metadata": {},
   "outputs": [
    {
     "name": "stdout",
     "output_type": "stream",
     "text": [
      "[0.84062117, 0.48006452, 0.7876326, 0.77109654, 0.44409793, 0.09014516, 0.81835917, 0.87645456, 0.7066597, 0.09610873, 0.41247947, 0.57433389, 0.29960807, 0.42315023, 0.34452557, 0.4751035, 0.17003563, 0.46843998, 0.92796258, 0.69814654, 0.41290051, 0.19561071, 0.16284783, 0.97016248, 0.71725408, 0.87702738, 0.31244595, 0.76615487, 0.20754036, 0.57871812, 0.07214068, 0.40356048, 0.12149553, 0.53222417, 0.9976855, 0.12536346, 0.80930099, 0.50962849, 0.94555126, 0.33364763]\n"
     ]
    }
   ],
   "source": [
    "print([item for element in a for item in element])"
   ]
  },
  {
   "cell_type": "markdown",
   "metadata": {},
   "source": [
    "### 4. Add a condition to the list comprehension above so that only values greater than or equal to 0.5 are printed."
   ]
  },
  {
   "cell_type": "code",
   "execution_count": 6,
   "metadata": {},
   "outputs": [
    {
     "name": "stdout",
     "output_type": "stream",
     "text": [
      "[0.84062117, 0.7876326, 0.77109654, 0.81835917, 0.87645456, 0.7066597, 0.57433389, 0.92796258, 0.69814654, 0.97016248, 0.71725408, 0.87702738, 0.76615487, 0.57871812, 0.53222417, 0.9976855, 0.80930099, 0.50962849, 0.94555126]\n"
     ]
    }
   ],
   "source": [
    "print([item for element in a for item in element if item >=0.5])"
   ]
  },
  {
   "cell_type": "markdown",
   "metadata": {},
   "source": [
    "### 5. Use a list comprehension to create and print a list containing all elements of the 5 x 2 x 3 Numpy array below."
   ]
  },
  {
   "cell_type": "code",
   "execution_count": 7,
   "metadata": {},
   "outputs": [],
   "source": [
    "b = np.array([[[0.55867166, 0.06210792, 0.08147297],\n",
    "        [0.82579068, 0.91512478, 0.06833034]],\n",
    "\n",
    "       [[0.05440634, 0.65857693, 0.30296619],\n",
    "        [0.06769833, 0.96031863, 0.51293743]],\n",
    "\n",
    "       [[0.09143215, 0.71893382, 0.45850679],\n",
    "        [0.58256464, 0.59005654, 0.56266457]],\n",
    "\n",
    "       [[0.71600294, 0.87392666, 0.11434044],\n",
    "        [0.8694668 , 0.65669313, 0.10708681]],\n",
    "\n",
    "       [[0.07529684, 0.46470767, 0.47984544],\n",
    "        [0.65368638, 0.14901286, 0.23760688]]])"
   ]
  },
  {
   "cell_type": "code",
   "execution_count": 8,
   "metadata": {},
   "outputs": [
    {
     "name": "stdout",
     "output_type": "stream",
     "text": [
      "[0.55867166, 0.06210792, 0.08147297, 0.82579068, 0.91512478, 0.06833034, 0.05440634, 0.65857693, 0.30296619, 0.06769833, 0.96031863, 0.51293743, 0.09143215, 0.71893382, 0.45850679, 0.58256464, 0.59005654, 0.56266457, 0.71600294, 0.87392666, 0.11434044, 0.8694668, 0.65669313, 0.10708681, 0.07529684, 0.46470767, 0.47984544, 0.65368638, 0.14901286, 0.23760688]\n"
     ]
    }
   ],
   "source": [
    "print([i for arr in b for element in arr for i in element])"
   ]
  },
  {
   "cell_type": "markdown",
   "metadata": {},
   "source": [
    "### 5. Add a condition to the list comprehension above so that the last value in each subarray is printed, but only if it is less than or equal to 0.5."
   ]
  },
  {
   "cell_type": "code",
   "execution_count": 9,
   "metadata": {},
   "outputs": [
    {
     "name": "stdout",
     "output_type": "stream",
     "text": [
      "[0.08147297, 0.06833034, 0.30296619, 0.45850679, 0.11434044, 0.10708681, 0.47984544, 0.23760688]\n"
     ]
    }
   ],
   "source": [
    "print([element[-1] for arr in b for element in arr if element[-1] <= 0.5])"
   ]
  },
  {
   "cell_type": "markdown",
   "metadata": {},
   "source": [
    "### 6. Use a list comprehension to select and print the names of all CSV files in the */data* directory."
   ]
  },
  {
   "cell_type": "code",
   "execution_count": 10,
   "metadata": {},
   "outputs": [
    {
     "name": "stdout",
     "output_type": "stream",
     "text": [
      "['sample_file_9.txt', 'sample_file_2.txt', 'sample_file_1.csv', 'sample_file_0.txt', 'sample_file_3.txt', 'sample_file_6.csv', 'sample_file_0.csv', 'sample_file_3.csv', 'sample_file_8.txt', 'sample_file_7.txt', 'sample_file_8.csv', 'sample_file_6.txt', 'sample_file_9.csv', 'sample_file_4.txt', 'sample_file_7.csv', 'sample_file_2.csv', 'sample_file_4.csv', 'sample_file_5.txt', 'sample_file_5.csv', 'sample_file_1.txt']\n"
     ]
    }
   ],
   "source": [
    "file_list = [f for f in os.listdir('../data')]\n",
    "print(file_list)"
   ]
  },
  {
   "cell_type": "markdown",
   "metadata": {},
   "source": [
    "### 7. Use a list comprehension and the Pandas `read_csv` and `concat` methods to read all CSV files in the */data* directory and combine them into a single data frame. Display the top 10 rows of the resulting data frame."
   ]
  },
  {
   "cell_type": "code",
   "execution_count": 11,
   "metadata": {},
   "outputs": [
    {
     "data": {
      "text/html": [
       "<div>\n",
       "<style scoped>\n",
       "    .dataframe tbody tr th:only-of-type {\n",
       "        vertical-align: middle;\n",
       "    }\n",
       "\n",
       "    .dataframe tbody tr th {\n",
       "        vertical-align: top;\n",
       "    }\n",
       "\n",
       "    .dataframe thead th {\n",
       "        text-align: right;\n",
       "    }\n",
       "</style>\n",
       "<table border=\"1\" class=\"dataframe\">\n",
       "  <thead>\n",
       "    <tr style=\"text-align: right;\">\n",
       "      <th></th>\n",
       "      <th>0</th>\n",
       "      <th>1</th>\n",
       "      <th>2</th>\n",
       "      <th>3</th>\n",
       "      <th>4</th>\n",
       "      <th>5</th>\n",
       "      <th>6</th>\n",
       "      <th>7</th>\n",
       "      <th>8</th>\n",
       "      <th>9</th>\n",
       "      <th>10</th>\n",
       "      <th>11</th>\n",
       "      <th>12</th>\n",
       "      <th>13</th>\n",
       "      <th>14</th>\n",
       "      <th>15</th>\n",
       "      <th>16</th>\n",
       "      <th>17</th>\n",
       "      <th>18</th>\n",
       "      <th>19</th>\n",
       "    </tr>\n",
       "  </thead>\n",
       "  <tbody>\n",
       "    <tr>\n",
       "      <th>0</th>\n",
       "      <td>0.276827</td>\n",
       "      <td>0.260054</td>\n",
       "      <td>0.942397</td>\n",
       "      <td>0.113187</td>\n",
       "      <td>0.781355</td>\n",
       "      <td>0.475740</td>\n",
       "      <td>0.152061</td>\n",
       "      <td>0.250324</td>\n",
       "      <td>0.147078</td>\n",
       "      <td>0.162984</td>\n",
       "      <td>0.977025</td>\n",
       "      <td>0.509619</td>\n",
       "      <td>0.593212</td>\n",
       "      <td>0.911839</td>\n",
       "      <td>0.257645</td>\n",
       "      <td>0.386457</td>\n",
       "      <td>0.696932</td>\n",
       "      <td>0.069162</td>\n",
       "      <td>0.952291</td>\n",
       "      <td>0.286542</td>\n",
       "    </tr>\n",
       "    <tr>\n",
       "      <th>1</th>\n",
       "      <td>0.995885</td>\n",
       "      <td>0.158381</td>\n",
       "      <td>0.244274</td>\n",
       "      <td>0.962163</td>\n",
       "      <td>0.651900</td>\n",
       "      <td>0.930665</td>\n",
       "      <td>0.577190</td>\n",
       "      <td>0.087914</td>\n",
       "      <td>0.960261</td>\n",
       "      <td>0.580840</td>\n",
       "      <td>0.194616</td>\n",
       "      <td>0.661459</td>\n",
       "      <td>0.674085</td>\n",
       "      <td>0.049326</td>\n",
       "      <td>0.785803</td>\n",
       "      <td>0.315645</td>\n",
       "      <td>0.495355</td>\n",
       "      <td>0.232135</td>\n",
       "      <td>0.549324</td>\n",
       "      <td>0.572232</td>\n",
       "    </tr>\n",
       "    <tr>\n",
       "      <th>2</th>\n",
       "      <td>0.641917</td>\n",
       "      <td>0.821055</td>\n",
       "      <td>0.392437</td>\n",
       "      <td>0.782617</td>\n",
       "      <td>0.510762</td>\n",
       "      <td>0.428320</td>\n",
       "      <td>0.017324</td>\n",
       "      <td>0.680720</td>\n",
       "      <td>0.340412</td>\n",
       "      <td>0.462513</td>\n",
       "      <td>0.785776</td>\n",
       "      <td>0.251949</td>\n",
       "      <td>0.032847</td>\n",
       "      <td>0.995700</td>\n",
       "      <td>0.816563</td>\n",
       "      <td>0.735692</td>\n",
       "      <td>0.435998</td>\n",
       "      <td>0.430411</td>\n",
       "      <td>0.531757</td>\n",
       "      <td>0.489528</td>\n",
       "    </tr>\n",
       "    <tr>\n",
       "      <th>3</th>\n",
       "      <td>0.806532</td>\n",
       "      <td>0.569258</td>\n",
       "      <td>0.148175</td>\n",
       "      <td>0.809987</td>\n",
       "      <td>0.459632</td>\n",
       "      <td>0.735762</td>\n",
       "      <td>0.730664</td>\n",
       "      <td>0.934502</td>\n",
       "      <td>0.080322</td>\n",
       "      <td>0.763502</td>\n",
       "      <td>0.398504</td>\n",
       "      <td>0.027637</td>\n",
       "      <td>0.409665</td>\n",
       "      <td>0.942846</td>\n",
       "      <td>0.133256</td>\n",
       "      <td>0.157158</td>\n",
       "      <td>0.929446</td>\n",
       "      <td>0.402791</td>\n",
       "      <td>0.685976</td>\n",
       "      <td>0.246594</td>\n",
       "    </tr>\n",
       "    <tr>\n",
       "      <th>4</th>\n",
       "      <td>0.311185</td>\n",
       "      <td>0.501165</td>\n",
       "      <td>0.365979</td>\n",
       "      <td>0.782807</td>\n",
       "      <td>0.776795</td>\n",
       "      <td>0.797199</td>\n",
       "      <td>0.791946</td>\n",
       "      <td>0.847157</td>\n",
       "      <td>0.771811</td>\n",
       "      <td>0.233944</td>\n",
       "      <td>0.522344</td>\n",
       "      <td>0.053030</td>\n",
       "      <td>0.208551</td>\n",
       "      <td>0.824354</td>\n",
       "      <td>0.588567</td>\n",
       "      <td>0.604341</td>\n",
       "      <td>0.232964</td>\n",
       "      <td>0.229109</td>\n",
       "      <td>0.022881</td>\n",
       "      <td>0.479022</td>\n",
       "    </tr>\n",
       "    <tr>\n",
       "      <th>0</th>\n",
       "      <td>0.702566</td>\n",
       "      <td>0.092336</td>\n",
       "      <td>0.245083</td>\n",
       "      <td>0.918402</td>\n",
       "      <td>0.695110</td>\n",
       "      <td>0.886921</td>\n",
       "      <td>0.588605</td>\n",
       "      <td>0.950970</td>\n",
       "      <td>0.168079</td>\n",
       "      <td>0.783107</td>\n",
       "      <td>0.698836</td>\n",
       "      <td>0.120857</td>\n",
       "      <td>0.207432</td>\n",
       "      <td>0.824789</td>\n",
       "      <td>0.349212</td>\n",
       "      <td>0.818606</td>\n",
       "      <td>0.376941</td>\n",
       "      <td>0.886644</td>\n",
       "      <td>0.472826</td>\n",
       "      <td>0.551858</td>\n",
       "    </tr>\n",
       "    <tr>\n",
       "      <th>1</th>\n",
       "      <td>0.177005</td>\n",
       "      <td>0.649551</td>\n",
       "      <td>0.467321</td>\n",
       "      <td>0.449597</td>\n",
       "      <td>0.458872</td>\n",
       "      <td>0.815586</td>\n",
       "      <td>0.455132</td>\n",
       "      <td>0.729812</td>\n",
       "      <td>0.998528</td>\n",
       "      <td>0.048724</td>\n",
       "      <td>0.377391</td>\n",
       "      <td>0.729498</td>\n",
       "      <td>0.721515</td>\n",
       "      <td>0.566724</td>\n",
       "      <td>0.338366</td>\n",
       "      <td>0.877239</td>\n",
       "      <td>0.129824</td>\n",
       "      <td>0.773155</td>\n",
       "      <td>0.485385</td>\n",
       "      <td>0.686294</td>\n",
       "    </tr>\n",
       "    <tr>\n",
       "      <th>2</th>\n",
       "      <td>0.689556</td>\n",
       "      <td>0.445586</td>\n",
       "      <td>0.005691</td>\n",
       "      <td>0.150171</td>\n",
       "      <td>0.554146</td>\n",
       "      <td>0.492320</td>\n",
       "      <td>0.185612</td>\n",
       "      <td>0.060855</td>\n",
       "      <td>0.457443</td>\n",
       "      <td>0.847337</td>\n",
       "      <td>0.603072</td>\n",
       "      <td>0.346574</td>\n",
       "      <td>0.898464</td>\n",
       "      <td>0.482963</td>\n",
       "      <td>0.443979</td>\n",
       "      <td>0.430132</td>\n",
       "      <td>0.713078</td>\n",
       "      <td>0.302786</td>\n",
       "      <td>0.051382</td>\n",
       "      <td>0.203699</td>\n",
       "    </tr>\n",
       "    <tr>\n",
       "      <th>3</th>\n",
       "      <td>0.047188</td>\n",
       "      <td>0.854596</td>\n",
       "      <td>0.833368</td>\n",
       "      <td>0.043878</td>\n",
       "      <td>0.883505</td>\n",
       "      <td>0.786302</td>\n",
       "      <td>0.980916</td>\n",
       "      <td>0.004030</td>\n",
       "      <td>0.619601</td>\n",
       "      <td>0.547769</td>\n",
       "      <td>0.160962</td>\n",
       "      <td>0.545281</td>\n",
       "      <td>0.931623</td>\n",
       "      <td>0.991855</td>\n",
       "      <td>0.821099</td>\n",
       "      <td>0.654592</td>\n",
       "      <td>0.346710</td>\n",
       "      <td>0.183948</td>\n",
       "      <td>0.372739</td>\n",
       "      <td>0.739383</td>\n",
       "    </tr>\n",
       "    <tr>\n",
       "      <th>4</th>\n",
       "      <td>0.936065</td>\n",
       "      <td>0.725831</td>\n",
       "      <td>0.184239</td>\n",
       "      <td>0.677391</td>\n",
       "      <td>0.242726</td>\n",
       "      <td>0.125457</td>\n",
       "      <td>0.356254</td>\n",
       "      <td>0.937350</td>\n",
       "      <td>0.215774</td>\n",
       "      <td>0.212762</td>\n",
       "      <td>0.483018</td>\n",
       "      <td>0.573162</td>\n",
       "      <td>0.634487</td>\n",
       "      <td>0.423924</td>\n",
       "      <td>0.394633</td>\n",
       "      <td>0.766967</td>\n",
       "      <td>0.606719</td>\n",
       "      <td>0.538712</td>\n",
       "      <td>0.885516</td>\n",
       "      <td>0.667051</td>\n",
       "    </tr>\n",
       "  </tbody>\n",
       "</table>\n",
       "</div>"
      ],
      "text/plain": [
       "          0         1         2         3         4         5         6  \\\n",
       "0  0.276827  0.260054  0.942397  0.113187  0.781355  0.475740  0.152061   \n",
       "1  0.995885  0.158381  0.244274  0.962163  0.651900  0.930665  0.577190   \n",
       "2  0.641917  0.821055  0.392437  0.782617  0.510762  0.428320  0.017324   \n",
       "3  0.806532  0.569258  0.148175  0.809987  0.459632  0.735762  0.730664   \n",
       "4  0.311185  0.501165  0.365979  0.782807  0.776795  0.797199  0.791946   \n",
       "0  0.702566  0.092336  0.245083  0.918402  0.695110  0.886921  0.588605   \n",
       "1  0.177005  0.649551  0.467321  0.449597  0.458872  0.815586  0.455132   \n",
       "2  0.689556  0.445586  0.005691  0.150171  0.554146  0.492320  0.185612   \n",
       "3  0.047188  0.854596  0.833368  0.043878  0.883505  0.786302  0.980916   \n",
       "4  0.936065  0.725831  0.184239  0.677391  0.242726  0.125457  0.356254   \n",
       "\n",
       "          7         8         9        10        11        12        13  \\\n",
       "0  0.250324  0.147078  0.162984  0.977025  0.509619  0.593212  0.911839   \n",
       "1  0.087914  0.960261  0.580840  0.194616  0.661459  0.674085  0.049326   \n",
       "2  0.680720  0.340412  0.462513  0.785776  0.251949  0.032847  0.995700   \n",
       "3  0.934502  0.080322  0.763502  0.398504  0.027637  0.409665  0.942846   \n",
       "4  0.847157  0.771811  0.233944  0.522344  0.053030  0.208551  0.824354   \n",
       "0  0.950970  0.168079  0.783107  0.698836  0.120857  0.207432  0.824789   \n",
       "1  0.729812  0.998528  0.048724  0.377391  0.729498  0.721515  0.566724   \n",
       "2  0.060855  0.457443  0.847337  0.603072  0.346574  0.898464  0.482963   \n",
       "3  0.004030  0.619601  0.547769  0.160962  0.545281  0.931623  0.991855   \n",
       "4  0.937350  0.215774  0.212762  0.483018  0.573162  0.634487  0.423924   \n",
       "\n",
       "         14        15        16        17        18        19  \n",
       "0  0.257645  0.386457  0.696932  0.069162  0.952291  0.286542  \n",
       "1  0.785803  0.315645  0.495355  0.232135  0.549324  0.572232  \n",
       "2  0.816563  0.735692  0.435998  0.430411  0.531757  0.489528  \n",
       "3  0.133256  0.157158  0.929446  0.402791  0.685976  0.246594  \n",
       "4  0.588567  0.604341  0.232964  0.229109  0.022881  0.479022  \n",
       "0  0.349212  0.818606  0.376941  0.886644  0.472826  0.551858  \n",
       "1  0.338366  0.877239  0.129824  0.773155  0.485385  0.686294  \n",
       "2  0.443979  0.430132  0.713078  0.302786  0.051382  0.203699  \n",
       "3  0.821099  0.654592  0.346710  0.183948  0.372739  0.739383  \n",
       "4  0.394633  0.766967  0.606719  0.538712  0.885516  0.667051  "
      ]
     },
     "execution_count": 11,
     "metadata": {},
     "output_type": "execute_result"
    }
   ],
   "source": [
    "file_list = [f for f in os.listdir('../data') if f.endswith('.csv')]\n",
    "data_sets = [pd.read_csv(os.path.join('../data', f)) for f in file_list]\n",
    "data = pd.concat(data_sets, axis=0)\n",
    "data.head(10)"
   ]
  },
  {
   "cell_type": "markdown",
   "metadata": {},
   "source": [
    "### 8. Use a list comprehension to select and print the column numbers for columns from the data set whose median is less than 0.48."
   ]
  },
  {
   "cell_type": "code",
   "execution_count": 12,
   "metadata": {},
   "outputs": [
    {
     "name": "stdout",
     "output_type": "stream",
     "text": [
      "['0', '1', '3', '4', '5', '6', '7', '8', '10', '11', '13', '15', '16', '18', '19']\n"
     ]
    }
   ],
   "source": [
    "less_than = [col for col in data._get_numeric_data() if data[col].median() > 0.48]\n",
    "print(less_than)"
   ]
  },
  {
   "cell_type": "markdown",
   "metadata": {},
   "source": [
    "### 9. Use a list comprehension to add a new column (20) to the data frame whose values are the values in column 19 minus 0.1. Display the top 10 rows of the resulting data frame."
   ]
  },
  {
   "cell_type": "code",
   "execution_count": 15,
   "metadata": {},
   "outputs": [
    {
     "data": {
      "text/html": [
       "<div>\n",
       "<style scoped>\n",
       "    .dataframe tbody tr th:only-of-type {\n",
       "        vertical-align: middle;\n",
       "    }\n",
       "\n",
       "    .dataframe tbody tr th {\n",
       "        vertical-align: top;\n",
       "    }\n",
       "\n",
       "    .dataframe thead th {\n",
       "        text-align: right;\n",
       "    }\n",
       "</style>\n",
       "<table border=\"1\" class=\"dataframe\">\n",
       "  <thead>\n",
       "    <tr style=\"text-align: right;\">\n",
       "      <th></th>\n",
       "      <th>0</th>\n",
       "      <th>1</th>\n",
       "      <th>2</th>\n",
       "      <th>3</th>\n",
       "      <th>4</th>\n",
       "      <th>5</th>\n",
       "      <th>6</th>\n",
       "      <th>7</th>\n",
       "      <th>8</th>\n",
       "      <th>9</th>\n",
       "      <th>...</th>\n",
       "      <th>11</th>\n",
       "      <th>12</th>\n",
       "      <th>13</th>\n",
       "      <th>14</th>\n",
       "      <th>15</th>\n",
       "      <th>16</th>\n",
       "      <th>17</th>\n",
       "      <th>18</th>\n",
       "      <th>19</th>\n",
       "      <th>20</th>\n",
       "    </tr>\n",
       "  </thead>\n",
       "  <tbody>\n",
       "    <tr>\n",
       "      <th>0</th>\n",
       "      <td>0.276827</td>\n",
       "      <td>0.260054</td>\n",
       "      <td>0.942397</td>\n",
       "      <td>0.113187</td>\n",
       "      <td>0.781355</td>\n",
       "      <td>0.475740</td>\n",
       "      <td>0.152061</td>\n",
       "      <td>0.250324</td>\n",
       "      <td>0.147078</td>\n",
       "      <td>0.162984</td>\n",
       "      <td>...</td>\n",
       "      <td>0.509619</td>\n",
       "      <td>0.593212</td>\n",
       "      <td>0.911839</td>\n",
       "      <td>0.257645</td>\n",
       "      <td>0.386457</td>\n",
       "      <td>0.696932</td>\n",
       "      <td>0.069162</td>\n",
       "      <td>0.952291</td>\n",
       "      <td>0.286542</td>\n",
       "      <td>0.186542</td>\n",
       "    </tr>\n",
       "    <tr>\n",
       "      <th>1</th>\n",
       "      <td>0.995885</td>\n",
       "      <td>0.158381</td>\n",
       "      <td>0.244274</td>\n",
       "      <td>0.962163</td>\n",
       "      <td>0.651900</td>\n",
       "      <td>0.930665</td>\n",
       "      <td>0.577190</td>\n",
       "      <td>0.087914</td>\n",
       "      <td>0.960261</td>\n",
       "      <td>0.580840</td>\n",
       "      <td>...</td>\n",
       "      <td>0.661459</td>\n",
       "      <td>0.674085</td>\n",
       "      <td>0.049326</td>\n",
       "      <td>0.785803</td>\n",
       "      <td>0.315645</td>\n",
       "      <td>0.495355</td>\n",
       "      <td>0.232135</td>\n",
       "      <td>0.549324</td>\n",
       "      <td>0.572232</td>\n",
       "      <td>0.472232</td>\n",
       "    </tr>\n",
       "    <tr>\n",
       "      <th>2</th>\n",
       "      <td>0.641917</td>\n",
       "      <td>0.821055</td>\n",
       "      <td>0.392437</td>\n",
       "      <td>0.782617</td>\n",
       "      <td>0.510762</td>\n",
       "      <td>0.428320</td>\n",
       "      <td>0.017324</td>\n",
       "      <td>0.680720</td>\n",
       "      <td>0.340412</td>\n",
       "      <td>0.462513</td>\n",
       "      <td>...</td>\n",
       "      <td>0.251949</td>\n",
       "      <td>0.032847</td>\n",
       "      <td>0.995700</td>\n",
       "      <td>0.816563</td>\n",
       "      <td>0.735692</td>\n",
       "      <td>0.435998</td>\n",
       "      <td>0.430411</td>\n",
       "      <td>0.531757</td>\n",
       "      <td>0.489528</td>\n",
       "      <td>0.389528</td>\n",
       "    </tr>\n",
       "    <tr>\n",
       "      <th>3</th>\n",
       "      <td>0.806532</td>\n",
       "      <td>0.569258</td>\n",
       "      <td>0.148175</td>\n",
       "      <td>0.809987</td>\n",
       "      <td>0.459632</td>\n",
       "      <td>0.735762</td>\n",
       "      <td>0.730664</td>\n",
       "      <td>0.934502</td>\n",
       "      <td>0.080322</td>\n",
       "      <td>0.763502</td>\n",
       "      <td>...</td>\n",
       "      <td>0.027637</td>\n",
       "      <td>0.409665</td>\n",
       "      <td>0.942846</td>\n",
       "      <td>0.133256</td>\n",
       "      <td>0.157158</td>\n",
       "      <td>0.929446</td>\n",
       "      <td>0.402791</td>\n",
       "      <td>0.685976</td>\n",
       "      <td>0.246594</td>\n",
       "      <td>0.146594</td>\n",
       "    </tr>\n",
       "    <tr>\n",
       "      <th>4</th>\n",
       "      <td>0.311185</td>\n",
       "      <td>0.501165</td>\n",
       "      <td>0.365979</td>\n",
       "      <td>0.782807</td>\n",
       "      <td>0.776795</td>\n",
       "      <td>0.797199</td>\n",
       "      <td>0.791946</td>\n",
       "      <td>0.847157</td>\n",
       "      <td>0.771811</td>\n",
       "      <td>0.233944</td>\n",
       "      <td>...</td>\n",
       "      <td>0.053030</td>\n",
       "      <td>0.208551</td>\n",
       "      <td>0.824354</td>\n",
       "      <td>0.588567</td>\n",
       "      <td>0.604341</td>\n",
       "      <td>0.232964</td>\n",
       "      <td>0.229109</td>\n",
       "      <td>0.022881</td>\n",
       "      <td>0.479022</td>\n",
       "      <td>0.379022</td>\n",
       "    </tr>\n",
       "  </tbody>\n",
       "</table>\n",
       "<p>5 rows × 21 columns</p>\n",
       "</div>"
      ],
      "text/plain": [
       "          0         1         2         3         4         5         6  \\\n",
       "0  0.276827  0.260054  0.942397  0.113187  0.781355  0.475740  0.152061   \n",
       "1  0.995885  0.158381  0.244274  0.962163  0.651900  0.930665  0.577190   \n",
       "2  0.641917  0.821055  0.392437  0.782617  0.510762  0.428320  0.017324   \n",
       "3  0.806532  0.569258  0.148175  0.809987  0.459632  0.735762  0.730664   \n",
       "4  0.311185  0.501165  0.365979  0.782807  0.776795  0.797199  0.791946   \n",
       "\n",
       "          7         8         9  ...        11        12        13        14  \\\n",
       "0  0.250324  0.147078  0.162984  ...  0.509619  0.593212  0.911839  0.257645   \n",
       "1  0.087914  0.960261  0.580840  ...  0.661459  0.674085  0.049326  0.785803   \n",
       "2  0.680720  0.340412  0.462513  ...  0.251949  0.032847  0.995700  0.816563   \n",
       "3  0.934502  0.080322  0.763502  ...  0.027637  0.409665  0.942846  0.133256   \n",
       "4  0.847157  0.771811  0.233944  ...  0.053030  0.208551  0.824354  0.588567   \n",
       "\n",
       "         15        16        17        18        19        20  \n",
       "0  0.386457  0.696932  0.069162  0.952291  0.286542  0.186542  \n",
       "1  0.315645  0.495355  0.232135  0.549324  0.572232  0.472232  \n",
       "2  0.735692  0.435998  0.430411  0.531757  0.489528  0.389528  \n",
       "3  0.157158  0.929446  0.402791  0.685976  0.246594  0.146594  \n",
       "4  0.604341  0.232964  0.229109  0.022881  0.479022  0.379022  \n",
       "\n",
       "[5 rows x 21 columns]"
      ]
     },
     "execution_count": 15,
     "metadata": {},
     "output_type": "execute_result"
    }
   ],
   "source": [
    "data['20'] = [e - 0.1 for e in data['19']]\n",
    "data.head(5)"
   ]
  },
  {
   "cell_type": "markdown",
   "metadata": {},
   "source": [
    "### 10. Use a list comprehension to extract and print all values from the data set that are between 0.7 and 0.75."
   ]
  },
  {
   "cell_type": "code",
   "execution_count": 16,
   "metadata": {},
   "outputs": [
    {
     "name": "stdout",
     "output_type": "stream",
     "text": [
      "[0.7025657075988269, 0.7347510852128797, 0.7132714209987683, 0.7280006345208285, 0.7258310816144985, 0.736029494090402, 0.7472962776291713, 0.7343092314001137, 0.7358941798147411, 0.7365416322783028, 0.7088042362916818, 0.7023481768180954, 0.7329024831531535, 0.7133695725698419, 0.7476323136755818, 0.7008930873050235, 0.7357618655811269, 0.7032248108904495, 0.7150799992177622, 0.7173964318670598, 0.7013619954419494, 0.7268545088531969, 0.7306642125209889, 0.7124169515124726, 0.71223975981198, 0.7383982036983279, 0.7298115760258881, 0.7051334608870933, 0.7321333453970806, 0.7178166705957928, 0.7374449181749492, 0.7159290265157912, 0.7294980584878026, 0.7215147068185102, 0.7045750112959754, 0.7111584953876777, 0.7209375615129192, 0.7133690799930356, 0.7396561066717461, 0.7303553716733908, 0.7356923324968598, 0.7390312927111312, 0.7078738356977186, 0.7321533684342264, 0.7130781095091867, 0.7490680818183477, 0.7085098152301276, 0.7196096371031628, 0.7264121114538001, 0.7393833032570581, 0.7244863338885654, 0.7376946446827494, 0.7033930409580709, 0.7274869207330491]\n"
     ]
    }
   ],
   "source": [
    "between = [i for e in data for i in data[e] if i >= 0.7 and i <= 0.75]\n",
    "print(between)"
   ]
  },
  {
   "cell_type": "code",
   "execution_count": null,
   "metadata": {},
   "outputs": [],
   "source": []
  },
  {
   "cell_type": "code",
   "execution_count": null,
   "metadata": {},
   "outputs": [],
   "source": []
  }
 ],
 "metadata": {
  "kernelspec": {
   "display_name": "Python 3",
   "language": "python",
   "name": "python3"
  },
  "language_info": {
   "codemirror_mode": {
    "name": "ipython",
    "version": 3
   },
   "file_extension": ".py",
   "mimetype": "text/x-python",
   "name": "python",
   "nbconvert_exporter": "python",
   "pygments_lexer": "ipython3",
   "version": "3.8.2"
  }
 },
 "nbformat": 4,
 "nbformat_minor": 2
}
